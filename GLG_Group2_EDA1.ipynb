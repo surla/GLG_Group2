{
  "nbformat": 4,
  "nbformat_minor": 0,
  "metadata": {
    "colab": {
      "provenance": [],
      "collapsed_sections": [],
      "machine_shape": "hm"
    },
    "kernelspec": {
      "name": "python3",
      "display_name": "Python 3"
    },
    "language_info": {
      "name": "python"
    }
  },
  "cells": [
    {
      "cell_type": "code",
      "execution_count": 1,
      "metadata": {
        "id": "qIFLx0_wimTB"
      },
      "outputs": [],
      "source": [
        "import pandas as pd\n",
        "pd.set_option('max_colwidth',150)\n",
        "import matplotlib.pyplot as plt\n",
        "import seaborn as sns\n",
        "from datetime import datetime as dt\n",
        "from string import punctuation\n",
        "import re\n",
        "import os\n",
        "from sklearn.feature_extraction.text import CountVectorizer\n",
        "from IPython.core.interactiveshell import InteractiveShell\n",
        "InteractiveShell.ast_node_interactivity = \"all\" # allow multiple outputs in a cell\n",
        "import warnings\n",
        "import pandas as pd\n",
        "# pd.options.plotting.backend = \"plotly\"\n",
        "# warnings.filterwarnings(\"ignore\")\n",
        "%matplotlib inline"
      ]
    },
    {
      "cell_type": "markdown",
      "source": [
        "# Download and Extract the Datasets"
      ],
      "metadata": {
        "id": "QqvaLRjVjIj3"
      }
    },
    {
      "cell_type": "code",
      "source": [
        "# Downloading all-the-news-2-news-articles-dataset \n",
        "! wget https://www.dropbox.com/s/cn2utnr5ipathhh/all-the-news-2-1.zip?dl=0\n",
        "\n",
        "# Downloading Annotated Corpus for Named Entity Recognition dataset\n",
        "!gdown https://drive.google.com/uc?id=13y8JNgL5TQ4x-yufpBOv3QBsEiE051sE\n",
        "\n",
        "# Make a data folder to store the data\n",
        "!mkdir data\n",
        "\n",
        "!unzip /content/all-the-news-2-1.zip?dl=0 -d ./data/\n",
        "\n",
        "!mv /content/ner.csv ./data\n",
        "\n",
        "!rm /content/all-the-news-2-1.zip?dl=0\n",
        "\n"
      ],
      "metadata": {
        "colab": {
          "base_uri": "https://localhost:8080/"
        },
        "id": "VYvJeKsujCFY",
        "outputId": "16f6507d-b4ac-4575-da1e-fe03998045e5"
      },
      "execution_count": 2,
      "outputs": [
        {
          "output_type": "stream",
          "name": "stdout",
          "text": [
            "--2022-09-20 03:11:26--  https://www.dropbox.com/s/cn2utnr5ipathhh/all-the-news-2-1.zip?dl=0\n",
            "Resolving www.dropbox.com (www.dropbox.com)... 162.125.5.18, 2620:100:601d:18::a27d:512\n",
            "Connecting to www.dropbox.com (www.dropbox.com)|162.125.5.18|:443... connected.\n",
            "HTTP request sent, awaiting response... 302 Found\n",
            "Location: /s/raw/cn2utnr5ipathhh/all-the-news-2-1.zip [following]\n",
            "--2022-09-20 03:11:27--  https://www.dropbox.com/s/raw/cn2utnr5ipathhh/all-the-news-2-1.zip\n",
            "Reusing existing connection to www.dropbox.com:443.\n",
            "HTTP request sent, awaiting response... 302 Found\n",
            "Location: https://uc805ccffae99a694b8a23809316.dl.dropboxusercontent.com/cd/0/inline/BtQrPQD-xz2IFt-QpYjglvgxizYrcOAN46DM_zKDrPXGMrPcDq1QVnUK1uSSNhFLUSS0zHOpUt-Z9ET4ab0YnmJfio6z0aSUtVh0FNoaYwDgMHKOikk7XWMMVH_31nPvnadruWZO5bwlCYyGa40pfG5YtuXMoSt2D4G2lM2FRaQy7Q/file# [following]\n",
            "--2022-09-20 03:11:27--  https://uc805ccffae99a694b8a23809316.dl.dropboxusercontent.com/cd/0/inline/BtQrPQD-xz2IFt-QpYjglvgxizYrcOAN46DM_zKDrPXGMrPcDq1QVnUK1uSSNhFLUSS0zHOpUt-Z9ET4ab0YnmJfio6z0aSUtVh0FNoaYwDgMHKOikk7XWMMVH_31nPvnadruWZO5bwlCYyGa40pfG5YtuXMoSt2D4G2lM2FRaQy7Q/file\n",
            "Resolving uc805ccffae99a694b8a23809316.dl.dropboxusercontent.com (uc805ccffae99a694b8a23809316.dl.dropboxusercontent.com)... 162.125.5.15, 2620:100:601d:15::a27d:50f\n",
            "Connecting to uc805ccffae99a694b8a23809316.dl.dropboxusercontent.com (uc805ccffae99a694b8a23809316.dl.dropboxusercontent.com)|162.125.5.15|:443... connected.\n",
            "HTTP request sent, awaiting response... 302 Found\n",
            "Location: /cd/0/inline2/BtQ5EDXW4wHKuA_Go7zpxheLXIqC7O04k6CiRcKsK0mgzu9HhCRXcDOl2NdQNwd2gVM-3x09tcHqRSiEcAtAe0ixHFII-LW18HL60-lLkIYoNT_IqnCq3kBlxXTU5Cxaw65jhT61mGfjg1b0rGDwP7U_fbHv98IgYOONSkdRDRjeBfb6JSWlJcKLczeU-7p3YJ2mWTVKAXaCdqOQGWZ62VTCFt0ybF6uxLmUpSOrQAmZbE8DotRFVFPTbxHREb_7ZTJikZX0w-20XTTU8hd5mcR58gCYS2BMlPN0R2r9nQV-eO0oNn4SeLOCC2UzO0v3hvMLahhsSkDh3bf91GJzdjz2tVA-Jb-6lML9ayzpDJU0nOkSb4Cup-VkKajqVtQOthO1eCwmDjX4eTqW6wmivTnECY2tgNayE2h-3U0TZRM-cg/file [following]\n",
            "--2022-09-20 03:11:27--  https://uc805ccffae99a694b8a23809316.dl.dropboxusercontent.com/cd/0/inline2/BtQ5EDXW4wHKuA_Go7zpxheLXIqC7O04k6CiRcKsK0mgzu9HhCRXcDOl2NdQNwd2gVM-3x09tcHqRSiEcAtAe0ixHFII-LW18HL60-lLkIYoNT_IqnCq3kBlxXTU5Cxaw65jhT61mGfjg1b0rGDwP7U_fbHv98IgYOONSkdRDRjeBfb6JSWlJcKLczeU-7p3YJ2mWTVKAXaCdqOQGWZ62VTCFt0ybF6uxLmUpSOrQAmZbE8DotRFVFPTbxHREb_7ZTJikZX0w-20XTTU8hd5mcR58gCYS2BMlPN0R2r9nQV-eO0oNn4SeLOCC2UzO0v3hvMLahhsSkDh3bf91GJzdjz2tVA-Jb-6lML9ayzpDJU0nOkSb4Cup-VkKajqVtQOthO1eCwmDjX4eTqW6wmivTnECY2tgNayE2h-3U0TZRM-cg/file\n",
            "Reusing existing connection to uc805ccffae99a694b8a23809316.dl.dropboxusercontent.com:443.\n",
            "HTTP request sent, awaiting response... 200 OK\n",
            "Length: 3343521557 (3.1G) [application/zip]\n",
            "Saving to: ‘all-the-news-2-1.zip?dl=0’\n",
            "\n",
            "all-the-news-2-1.zi 100%[===================>]   3.11G   107MB/s    in 32s     \n",
            "\n",
            "2022-09-20 03:12:00 (98.1 MB/s) - ‘all-the-news-2-1.zip?dl=0’ saved [3343521557/3343521557]\n",
            "\n",
            "Downloading...\n",
            "From: https://drive.google.com/uc?id=13y8JNgL5TQ4x-yufpBOv3QBsEiE051sE\n",
            "To: /content/ner.csv\n",
            "100% 157M/157M [00:01<00:00, 149MB/s]\n",
            "Archive:  /content/all-the-news-2-1.zip?dl=0\n",
            "  inflating: ./data/all-the-news-2-1.csv  \n"
          ]
        }
      ]
    },
    {
      "cell_type": "markdown",
      "source": [
        "# Load Data"
      ],
      "metadata": {
        "id": "liJiX3Xf2hQh"
      }
    },
    {
      "cell_type": "code",
      "source": [
        "#specify the path to data location\n",
        "\n",
        "filepath = '/content/data/all-the-news-2-1.csv'\n",
        "# data = pd.read_csv(filepath, encoding = \"ISO-8859-1\")\n",
        "data = pd.read_csv(filepath, encoding = \"utf-8\")  \n"
      ],
      "metadata": {
        "id": "LMwtt2rJnNhB"
      },
      "execution_count": 3,
      "outputs": []
    },
    {
      "cell_type": "code",
      "source": [
        "#Verify that the data is loaded correctly\n",
        "data.head(3)"
      ],
      "metadata": {
        "colab": {
          "base_uri": "https://localhost:8080/",
          "height": 1000
        },
        "id": "g4VoxOSnnOs9",
        "outputId": "8823af1a-1f4e-47f8-ba43-f368d77c77b2"
      },
      "execution_count": 4,
      "outputs": [
        {
          "output_type": "execute_result",
          "data": {
            "text/plain": [
              "                  date  year  month  day       author  \\\n",
              "0  2016-12-09 18:31:00  2016   12.0    9  Lee Drutman   \n",
              "1  2016-10-07 21:26:46  2016   10.0    7  Scott Davis   \n",
              "2  2018-01-26 00:00:00  2018    1.0   26          NaN   \n",
              "\n",
              "                                                                                    title  \\\n",
              "0                 We should take concerns about the health of liberal democracy seriously   \n",
              "1  Colts GM Ryan Grigson says Andrew Luck's contract makes it difficult to build the team   \n",
              "2                                            Trump denies report he ordered Mueller fired   \n",
              "\n",
              "                                                                                                                                                 article  \\\n",
              "0  This post is part of Polyarchy, an independent blog produced by the political reform program at New America, a Washington think tank devoted to de...   \n",
              "1   The Indianapolis Colts made Andrew Luck the highest-paid player in NFL history this offseason with a five-year, $122-million contract with $89 mi...   \n",
              "2  DAVOS, Switzerland (Reuters) - U.S. President Donald Trump denied a report on Friday that he had ordered Special Counsel Robert Mueller fired last...   \n",
              "\n",
              "                                                                                                                         url  \\\n",
              "0                                                   https://www.vox.com/polyarchy/2016/12/9/13898340/democracy-warning-signs   \n",
              "1                                         https://www.businessinsider.com/colts-gm-ryan-grigson-andrew-luck-contract-2016-10   \n",
              "2  https://www.reuters.com/article/us-davos-meeting-trump-mueller/trump-denies-report-he-ordered-mueller-fired-idUSKBN1FF12A   \n",
              "\n",
              "  section       publication  \n",
              "0     NaN               Vox  \n",
              "1     NaN  Business Insider  \n",
              "2   Davos           Reuters  "
            ],
            "text/html": [
              "\n",
              "  <div id=\"df-6a768692-9b66-49d8-b605-ba6860aff438\">\n",
              "    <div class=\"colab-df-container\">\n",
              "      <div>\n",
              "<style scoped>\n",
              "    .dataframe tbody tr th:only-of-type {\n",
              "        vertical-align: middle;\n",
              "    }\n",
              "\n",
              "    .dataframe tbody tr th {\n",
              "        vertical-align: top;\n",
              "    }\n",
              "\n",
              "    .dataframe thead th {\n",
              "        text-align: right;\n",
              "    }\n",
              "</style>\n",
              "<table border=\"1\" class=\"dataframe\">\n",
              "  <thead>\n",
              "    <tr style=\"text-align: right;\">\n",
              "      <th></th>\n",
              "      <th>date</th>\n",
              "      <th>year</th>\n",
              "      <th>month</th>\n",
              "      <th>day</th>\n",
              "      <th>author</th>\n",
              "      <th>title</th>\n",
              "      <th>article</th>\n",
              "      <th>url</th>\n",
              "      <th>section</th>\n",
              "      <th>publication</th>\n",
              "    </tr>\n",
              "  </thead>\n",
              "  <tbody>\n",
              "    <tr>\n",
              "      <th>0</th>\n",
              "      <td>2016-12-09 18:31:00</td>\n",
              "      <td>2016</td>\n",
              "      <td>12.0</td>\n",
              "      <td>9</td>\n",
              "      <td>Lee Drutman</td>\n",
              "      <td>We should take concerns about the health of liberal democracy seriously</td>\n",
              "      <td>This post is part of Polyarchy, an independent blog produced by the political reform program at New America, a Washington think tank devoted to de...</td>\n",
              "      <td>https://www.vox.com/polyarchy/2016/12/9/13898340/democracy-warning-signs</td>\n",
              "      <td>NaN</td>\n",
              "      <td>Vox</td>\n",
              "    </tr>\n",
              "    <tr>\n",
              "      <th>1</th>\n",
              "      <td>2016-10-07 21:26:46</td>\n",
              "      <td>2016</td>\n",
              "      <td>10.0</td>\n",
              "      <td>7</td>\n",
              "      <td>Scott Davis</td>\n",
              "      <td>Colts GM Ryan Grigson says Andrew Luck's contract makes it difficult to build the team</td>\n",
              "      <td>The Indianapolis Colts made Andrew Luck the highest-paid player in NFL history this offseason with a five-year, $122-million contract with $89 mi...</td>\n",
              "      <td>https://www.businessinsider.com/colts-gm-ryan-grigson-andrew-luck-contract-2016-10</td>\n",
              "      <td>NaN</td>\n",
              "      <td>Business Insider</td>\n",
              "    </tr>\n",
              "    <tr>\n",
              "      <th>2</th>\n",
              "      <td>2018-01-26 00:00:00</td>\n",
              "      <td>2018</td>\n",
              "      <td>1.0</td>\n",
              "      <td>26</td>\n",
              "      <td>NaN</td>\n",
              "      <td>Trump denies report he ordered Mueller fired</td>\n",
              "      <td>DAVOS, Switzerland (Reuters) - U.S. President Donald Trump denied a report on Friday that he had ordered Special Counsel Robert Mueller fired last...</td>\n",
              "      <td>https://www.reuters.com/article/us-davos-meeting-trump-mueller/trump-denies-report-he-ordered-mueller-fired-idUSKBN1FF12A</td>\n",
              "      <td>Davos</td>\n",
              "      <td>Reuters</td>\n",
              "    </tr>\n",
              "  </tbody>\n",
              "</table>\n",
              "</div>\n",
              "      <button class=\"colab-df-convert\" onclick=\"convertToInteractive('df-6a768692-9b66-49d8-b605-ba6860aff438')\"\n",
              "              title=\"Convert this dataframe to an interactive table.\"\n",
              "              style=\"display:none;\">\n",
              "        \n",
              "  <svg xmlns=\"http://www.w3.org/2000/svg\" height=\"24px\"viewBox=\"0 0 24 24\"\n",
              "       width=\"24px\">\n",
              "    <path d=\"M0 0h24v24H0V0z\" fill=\"none\"/>\n",
              "    <path d=\"M18.56 5.44l.94 2.06.94-2.06 2.06-.94-2.06-.94-.94-2.06-.94 2.06-2.06.94zm-11 1L8.5 8.5l.94-2.06 2.06-.94-2.06-.94L8.5 2.5l-.94 2.06-2.06.94zm10 10l.94 2.06.94-2.06 2.06-.94-2.06-.94-.94-2.06-.94 2.06-2.06.94z\"/><path d=\"M17.41 7.96l-1.37-1.37c-.4-.4-.92-.59-1.43-.59-.52 0-1.04.2-1.43.59L10.3 9.45l-7.72 7.72c-.78.78-.78 2.05 0 2.83L4 21.41c.39.39.9.59 1.41.59.51 0 1.02-.2 1.41-.59l7.78-7.78 2.81-2.81c.8-.78.8-2.07 0-2.86zM5.41 20L4 18.59l7.72-7.72 1.47 1.35L5.41 20z\"/>\n",
              "  </svg>\n",
              "      </button>\n",
              "      \n",
              "  <style>\n",
              "    .colab-df-container {\n",
              "      display:flex;\n",
              "      flex-wrap:wrap;\n",
              "      gap: 12px;\n",
              "    }\n",
              "\n",
              "    .colab-df-convert {\n",
              "      background-color: #E8F0FE;\n",
              "      border: none;\n",
              "      border-radius: 50%;\n",
              "      cursor: pointer;\n",
              "      display: none;\n",
              "      fill: #1967D2;\n",
              "      height: 32px;\n",
              "      padding: 0 0 0 0;\n",
              "      width: 32px;\n",
              "    }\n",
              "\n",
              "    .colab-df-convert:hover {\n",
              "      background-color: #E2EBFA;\n",
              "      box-shadow: 0px 1px 2px rgba(60, 64, 67, 0.3), 0px 1px 3px 1px rgba(60, 64, 67, 0.15);\n",
              "      fill: #174EA6;\n",
              "    }\n",
              "\n",
              "    [theme=dark] .colab-df-convert {\n",
              "      background-color: #3B4455;\n",
              "      fill: #D2E3FC;\n",
              "    }\n",
              "\n",
              "    [theme=dark] .colab-df-convert:hover {\n",
              "      background-color: #434B5C;\n",
              "      box-shadow: 0px 1px 3px 1px rgba(0, 0, 0, 0.15);\n",
              "      filter: drop-shadow(0px 1px 2px rgba(0, 0, 0, 0.3));\n",
              "      fill: #FFFFFF;\n",
              "    }\n",
              "  </style>\n",
              "\n",
              "      <script>\n",
              "        const buttonEl =\n",
              "          document.querySelector('#df-6a768692-9b66-49d8-b605-ba6860aff438 button.colab-df-convert');\n",
              "        buttonEl.style.display =\n",
              "          google.colab.kernel.accessAllowed ? 'block' : 'none';\n",
              "\n",
              "        async function convertToInteractive(key) {\n",
              "          const element = document.querySelector('#df-6a768692-9b66-49d8-b605-ba6860aff438');\n",
              "          const dataTable =\n",
              "            await google.colab.kernel.invokeFunction('convertToInteractive',\n",
              "                                                     [key], {});\n",
              "          if (!dataTable) return;\n",
              "\n",
              "          const docLinkHtml = 'Like what you see? Visit the ' +\n",
              "            '<a target=\"_blank\" href=https://colab.research.google.com/notebooks/data_table.ipynb>data table notebook</a>'\n",
              "            + ' to learn more about interactive tables.';\n",
              "          element.innerHTML = '';\n",
              "          dataTable['output_type'] = 'display_data';\n",
              "          await google.colab.output.renderOutput(dataTable, element);\n",
              "          const docLink = document.createElement('div');\n",
              "          docLink.innerHTML = docLinkHtml;\n",
              "          element.appendChild(docLink);\n",
              "        }\n",
              "      </script>\n",
              "    </div>\n",
              "  </div>\n",
              "  "
            ]
          },
          "metadata": {},
          "execution_count": 4
        }
      ]
    },
    {
      "cell_type": "code",
      "source": [
        "#totally the data have 2,688,878 rows and 10 columns\n",
        "data.shape"
      ],
      "metadata": {
        "colab": {
          "base_uri": "https://localhost:8080/"
        },
        "id": "iJZa9dP1vGeN",
        "outputId": "71904dc4-f4ce-4ba3-93a4-957943a53273"
      },
      "execution_count": 5,
      "outputs": [
        {
          "output_type": "execute_result",
          "data": {
            "text/plain": [
              "(2688878, 10)"
            ]
          },
          "metadata": {},
          "execution_count": 5
        }
      ]
    },
    {
      "cell_type": "code",
      "source": [
        "data.info()"
      ],
      "metadata": {
        "colab": {
          "base_uri": "https://localhost:8080/"
        },
        "id": "XwYxq7Wqx8QH",
        "outputId": "c9feffac-6e76-459a-f5a3-5c401e485783"
      },
      "execution_count": 6,
      "outputs": [
        {
          "output_type": "stream",
          "name": "stdout",
          "text": [
            "<class 'pandas.core.frame.DataFrame'>\n",
            "RangeIndex: 2688878 entries, 0 to 2688877\n",
            "Data columns (total 10 columns):\n",
            " #   Column       Dtype  \n",
            "---  ------       -----  \n",
            " 0   date         object \n",
            " 1   year         int64  \n",
            " 2   month        float64\n",
            " 3   day          int64  \n",
            " 4   author       object \n",
            " 5   title        object \n",
            " 6   article      object \n",
            " 7   url          object \n",
            " 8   section      object \n",
            " 9   publication  object \n",
            "dtypes: float64(1), int64(2), object(7)\n",
            "memory usage: 205.1+ MB\n"
          ]
        }
      ]
    },
    {
      "cell_type": "code",
      "source": [
        "data.isnull().sum()"
      ],
      "metadata": {
        "colab": {
          "base_uri": "https://localhost:8080/"
        },
        "id": "o6obun2r48jC",
        "outputId": "8fb41956-593b-4b4d-ec7c-c079b9ea0a92"
      },
      "execution_count": 7,
      "outputs": [
        {
          "output_type": "execute_result",
          "data": {
            "text/plain": [
              "date                 0\n",
              "year                 0\n",
              "month                0\n",
              "day                  0\n",
              "author         1021101\n",
              "title               37\n",
              "article         104713\n",
              "url              12577\n",
              "section         912273\n",
              "publication      12577\n",
              "dtype: int64"
            ]
          },
          "metadata": {},
          "execution_count": 7
        }
      ]
    },
    {
      "cell_type": "markdown",
      "source": [
        "# Observation about the all-the-news-data\n",
        "\n",
        "- The data has 10 columns and 2688878 rows\n",
        "- 6 columns of the data have null values. The columns name are: \n",
        "     - author(it has 1021101 null values)\n",
        "     - title(it has 37 null values)\n",
        "     - article(it has 104713 null values)\n",
        "     - url(it has 12577 null values)\n",
        "     - section(it has 912223 null values)\n",
        "- data type of the columns int(2), float(1), and object(7)\n",
        "- The 'date' column data type is Object. It should be converted into date data type\n",
        "-author, title, article, url, section, and publication columns have object data types. it should be converted into string\n"
      ],
      "metadata": {
        "id": "EzYWiTEN5tnh"
      }
    },
    {
      "cell_type": "code",
      "source": [
        "# the total number of count for each publication\n",
        "data['publication'].value_counts(dropna=False)"
      ],
      "metadata": {
        "colab": {
          "base_uri": "https://localhost:8080/"
        },
        "id": "d9yp68G95lYQ",
        "outputId": "bcbe1b59-0df4-4215-dd24-9af4889bef50"
      },
      "execution_count": 8,
      "outputs": [
        {
          "output_type": "execute_result",
          "data": {
            "text/plain": [
              "Reuters               840094\n",
              "The New York Times    252259\n",
              "CNBC                  238096\n",
              "The Hill              208411\n",
              "People                136488\n",
              "CNN                   127602\n",
              "Refinery 29           111433\n",
              "Vice                  101137\n",
              "Mashable               94107\n",
              "Business Insider       57953\n",
              "The Verge              52424\n",
              "TechCrunch             52095\n",
              "TMZ                    49595\n",
              "Axios                  47815\n",
              "Vox                    47272\n",
              "Politico               46377\n",
              "Washington Post        40882\n",
              "Buzzfeed News          32819\n",
              "Gizmodo                27228\n",
              "Economist              26227\n",
              "Wired                  20243\n",
              "Fox News               20144\n",
              "Vice News              15539\n",
              "Hyperallergic          13551\n",
              "NaN                    12577\n",
              "New Republic           11809\n",
              "New Yorker              4701\n",
              "Name: publication, dtype: int64"
            ]
          },
          "metadata": {},
          "execution_count": 8
        }
      ]
    },
    {
      "cell_type": "code",
      "source": [
        "data['section'].value_counts(dropna=False)[:50]"
      ],
      "metadata": {
        "colab": {
          "base_uri": "https://localhost:8080/"
        },
        "id": "FsJsZvUdAqwf",
        "outputId": "8820f87b-695c-4c2a-f070-521685a225ec"
      },
      "execution_count": 9,
      "outputs": [
        {
          "output_type": "execute_result",
          "data": {
            "text/plain": [
              "NaN                          912273\n",
              "Market News                  108724\n",
              "World News                   108651\n",
              "Business News                 96395\n",
              "Wires                         67352\n",
              "Financials                    57845\n",
              "politics                      53496\n",
              "us                            51242\n",
              "Intel                         39805\n",
              "Bonds News                    39672\n",
              "Politics                      33875\n",
              "Healthcare                    30883\n",
              "world                         28530\n",
              "opinion                       27465\n",
              "Consumer Goods and Retail     26766\n",
              "Sports News                   26324\n",
              "business                      25335\n",
              "tv                            24783\n",
              "sports                        23909\n",
              "Tech                          21605\n",
              "arts                          21230\n",
              "movies                        19683\n",
              "Commodities                   17620\n",
              "Deals                         15847\n",
              "style                         15355\n",
              "Tech by VICE                  15222\n",
              "Entertainment                 13773\n",
              "health                        13629\n",
              "nyregion                      13498\n",
              "Technology News               12763\n",
              "Music by VICE                 12420\n",
              "Environment                   11639\n",
              "Company News                  11572\n",
              "Health News                   11235\n",
              "crime                         11208\n",
              "Sports                        11149\n",
              "music                         10402\n",
              "celebrity                     10242\n",
              "Food by VICE                   9933\n",
              "opinions                       9815\n",
              "entertainment                  9596\n",
              "Energy                         9435\n",
              "fashion                        9063\n",
              "U.S.                           9017\n",
              "books                          8704\n",
              "Big Story 10                   7995\n",
              "magazine                       7922\n",
              "Funds News                     7708\n",
              "Noisey                         7702\n",
              "Cyclical Consumer Goods        7625\n",
              "Name: section, dtype: int64"
            ]
          },
          "metadata": {},
          "execution_count": 9
        }
      ]
    },
    {
      "cell_type": "code",
      "source": [
        "def filter_section(section):\n",
        "\n",
        "  if str(section).lower().startswith('tech') :\n",
        "    return 'technology'\n",
        "  elif str(section).lower().startswith('health'):\n",
        "    return 'health'\n",
        "\n",
        "  return 'other'"
      ],
      "metadata": {
        "id": "Dmr1wuZ0BRSl"
      },
      "execution_count": 10,
      "outputs": []
    },
    {
      "cell_type": "code",
      "source": [
        "data['tech_health_tag'] = data['section'].apply(filter_section)"
      ],
      "metadata": {
        "id": "sIH7XCc2CgdN"
      },
      "execution_count": 11,
      "outputs": []
    },
    {
      "cell_type": "code",
      "source": [
        "data['tech_health_tag'].value_counts()"
      ],
      "metadata": {
        "colab": {
          "base_uri": "https://localhost:8080/"
        },
        "id": "96DJ1PspKaIp",
        "outputId": "4890798f-dbb0-41d0-81da-822c9a05dd5f"
      },
      "execution_count": 12,
      "outputs": [
        {
          "output_type": "execute_result",
          "data": {
            "text/plain": [
              "other         2562768\n",
              "health          65261\n",
              "technology      60849\n",
              "Name: tech_health_tag, dtype: int64"
            ]
          },
          "metadata": {},
          "execution_count": 12
        }
      ]
    },
    {
      "cell_type": "markdown",
      "source": [
        "# Load the data which focus only on Health and Technology Section"
      ],
      "metadata": {
        "id": "b_ko3gtRM8aY"
      }
    },
    {
      "cell_type": "code",
      "source": [
        "data_tech_health = data[(data['tech_health_tag']=='technology') |  (data['tech_health_tag']=='health')]"
      ],
      "metadata": {
        "id": "58MJL8bRKevk"
      },
      "execution_count": 13,
      "outputs": []
    },
    {
      "cell_type": "code",
      "source": [
        "data_tech_health = data_tech_health.reset_index(drop=True)"
      ],
      "metadata": {
        "id": "To-J8aVjVANm"
      },
      "execution_count": 14,
      "outputs": []
    },
    {
      "cell_type": "code",
      "source": [
        "data_tech_health.head(3)"
      ],
      "metadata": {
        "colab": {
          "base_uri": "https://localhost:8080/",
          "height": 1000
        },
        "id": "XNYfPQA6N0Sr",
        "outputId": "e5c74213-dbb9-4646-f715-1d2b2eb01d64"
      },
      "execution_count": 15,
      "outputs": [
        {
          "output_type": "execute_result",
          "data": {
            "text/plain": [
              "                  date  year  month  day             author  \\\n",
              "0  2018-05-02 17:09:00  2018    5.0    2  Caroline Williams   \n",
              "1  2018-10-05 19:35:00  2018   10.0    5   Caroline Haskins   \n",
              "2  2019-06-20 00:00:00  2019    6.0   20    Gergely Szakacs   \n",
              "\n",
              "                                                                        title  \\\n",
              "0                            You Can Trick Your Brain Into Being More Focused   \n",
              "1                     Trash Geyser Spews Garbage In Yellowstone National Park   \n",
              "2  Hungary has no evidence of Huawei threat, plans rapid 5G rollout: minister   \n",
              "\n",
              "                                                                                                                                                 article  \\\n",
              "0  If only every day could be like this. You can’t put your finger on why: Maybe you had just the right amount of sleep. Maybe the stars are somehow ...   \n",
              "1   Geyser eruptions are known as one of the most beautiful events to occur in nature. Not anymore! On September 15, Yellowstone Park’s Ear Spring ge...   \n",
              "2  BUDAPEST (Reuters) - Hungary has no evidence that equipment from Chinese telecoms giant Huawei poses a security threat, a government minister said...   \n",
              "\n",
              "                                                                                                                                                    url  \\\n",
              "0                                                                       https://www.vice.com/en_us/article/9kgp4v/how-to-improve-focus-be-more-creative   \n",
              "1                                                  https://www.vice.com/en_us/article/evwq47/ear-spring-geyser-spews-trash-in-yellowstone-national-park   \n",
              "2  https://www.reuters.com/article/us-hungary-telecoms-5g-huawei/hungary-has-no-evidence-of-huawei-threat-plans-rapid-5g-rollout-minister-idUSKCN1TL2AP   \n",
              "\n",
              "           section publication tech_health_tag  \n",
              "0           Health        Vice          health  \n",
              "1     Tech by VICE        Vice      technology  \n",
              "2  Technology News     Reuters      technology  "
            ],
            "text/html": [
              "\n",
              "  <div id=\"df-426c63c3-6ef9-4b5f-81a6-6b05c12830e5\">\n",
              "    <div class=\"colab-df-container\">\n",
              "      <div>\n",
              "<style scoped>\n",
              "    .dataframe tbody tr th:only-of-type {\n",
              "        vertical-align: middle;\n",
              "    }\n",
              "\n",
              "    .dataframe tbody tr th {\n",
              "        vertical-align: top;\n",
              "    }\n",
              "\n",
              "    .dataframe thead th {\n",
              "        text-align: right;\n",
              "    }\n",
              "</style>\n",
              "<table border=\"1\" class=\"dataframe\">\n",
              "  <thead>\n",
              "    <tr style=\"text-align: right;\">\n",
              "      <th></th>\n",
              "      <th>date</th>\n",
              "      <th>year</th>\n",
              "      <th>month</th>\n",
              "      <th>day</th>\n",
              "      <th>author</th>\n",
              "      <th>title</th>\n",
              "      <th>article</th>\n",
              "      <th>url</th>\n",
              "      <th>section</th>\n",
              "      <th>publication</th>\n",
              "      <th>tech_health_tag</th>\n",
              "    </tr>\n",
              "  </thead>\n",
              "  <tbody>\n",
              "    <tr>\n",
              "      <th>0</th>\n",
              "      <td>2018-05-02 17:09:00</td>\n",
              "      <td>2018</td>\n",
              "      <td>5.0</td>\n",
              "      <td>2</td>\n",
              "      <td>Caroline Williams</td>\n",
              "      <td>You Can Trick Your Brain Into Being More Focused</td>\n",
              "      <td>If only every day could be like this. You can’t put your finger on why: Maybe you had just the right amount of sleep. Maybe the stars are somehow ...</td>\n",
              "      <td>https://www.vice.com/en_us/article/9kgp4v/how-to-improve-focus-be-more-creative</td>\n",
              "      <td>Health</td>\n",
              "      <td>Vice</td>\n",
              "      <td>health</td>\n",
              "    </tr>\n",
              "    <tr>\n",
              "      <th>1</th>\n",
              "      <td>2018-10-05 19:35:00</td>\n",
              "      <td>2018</td>\n",
              "      <td>10.0</td>\n",
              "      <td>5</td>\n",
              "      <td>Caroline Haskins</td>\n",
              "      <td>Trash Geyser Spews Garbage In Yellowstone National Park</td>\n",
              "      <td>Geyser eruptions are known as one of the most beautiful events to occur in nature. Not anymore! On September 15, Yellowstone Park’s Ear Spring ge...</td>\n",
              "      <td>https://www.vice.com/en_us/article/evwq47/ear-spring-geyser-spews-trash-in-yellowstone-national-park</td>\n",
              "      <td>Tech by VICE</td>\n",
              "      <td>Vice</td>\n",
              "      <td>technology</td>\n",
              "    </tr>\n",
              "    <tr>\n",
              "      <th>2</th>\n",
              "      <td>2019-06-20 00:00:00</td>\n",
              "      <td>2019</td>\n",
              "      <td>6.0</td>\n",
              "      <td>20</td>\n",
              "      <td>Gergely Szakacs</td>\n",
              "      <td>Hungary has no evidence of Huawei threat, plans rapid 5G rollout: minister</td>\n",
              "      <td>BUDAPEST (Reuters) - Hungary has no evidence that equipment from Chinese telecoms giant Huawei poses a security threat, a government minister said...</td>\n",
              "      <td>https://www.reuters.com/article/us-hungary-telecoms-5g-huawei/hungary-has-no-evidence-of-huawei-threat-plans-rapid-5g-rollout-minister-idUSKCN1TL2AP</td>\n",
              "      <td>Technology News</td>\n",
              "      <td>Reuters</td>\n",
              "      <td>technology</td>\n",
              "    </tr>\n",
              "  </tbody>\n",
              "</table>\n",
              "</div>\n",
              "      <button class=\"colab-df-convert\" onclick=\"convertToInteractive('df-426c63c3-6ef9-4b5f-81a6-6b05c12830e5')\"\n",
              "              title=\"Convert this dataframe to an interactive table.\"\n",
              "              style=\"display:none;\">\n",
              "        \n",
              "  <svg xmlns=\"http://www.w3.org/2000/svg\" height=\"24px\"viewBox=\"0 0 24 24\"\n",
              "       width=\"24px\">\n",
              "    <path d=\"M0 0h24v24H0V0z\" fill=\"none\"/>\n",
              "    <path d=\"M18.56 5.44l.94 2.06.94-2.06 2.06-.94-2.06-.94-.94-2.06-.94 2.06-2.06.94zm-11 1L8.5 8.5l.94-2.06 2.06-.94-2.06-.94L8.5 2.5l-.94 2.06-2.06.94zm10 10l.94 2.06.94-2.06 2.06-.94-2.06-.94-.94-2.06-.94 2.06-2.06.94z\"/><path d=\"M17.41 7.96l-1.37-1.37c-.4-.4-.92-.59-1.43-.59-.52 0-1.04.2-1.43.59L10.3 9.45l-7.72 7.72c-.78.78-.78 2.05 0 2.83L4 21.41c.39.39.9.59 1.41.59.51 0 1.02-.2 1.41-.59l7.78-7.78 2.81-2.81c.8-.78.8-2.07 0-2.86zM5.41 20L4 18.59l7.72-7.72 1.47 1.35L5.41 20z\"/>\n",
              "  </svg>\n",
              "      </button>\n",
              "      \n",
              "  <style>\n",
              "    .colab-df-container {\n",
              "      display:flex;\n",
              "      flex-wrap:wrap;\n",
              "      gap: 12px;\n",
              "    }\n",
              "\n",
              "    .colab-df-convert {\n",
              "      background-color: #E8F0FE;\n",
              "      border: none;\n",
              "      border-radius: 50%;\n",
              "      cursor: pointer;\n",
              "      display: none;\n",
              "      fill: #1967D2;\n",
              "      height: 32px;\n",
              "      padding: 0 0 0 0;\n",
              "      width: 32px;\n",
              "    }\n",
              "\n",
              "    .colab-df-convert:hover {\n",
              "      background-color: #E2EBFA;\n",
              "      box-shadow: 0px 1px 2px rgba(60, 64, 67, 0.3), 0px 1px 3px 1px rgba(60, 64, 67, 0.15);\n",
              "      fill: #174EA6;\n",
              "    }\n",
              "\n",
              "    [theme=dark] .colab-df-convert {\n",
              "      background-color: #3B4455;\n",
              "      fill: #D2E3FC;\n",
              "    }\n",
              "\n",
              "    [theme=dark] .colab-df-convert:hover {\n",
              "      background-color: #434B5C;\n",
              "      box-shadow: 0px 1px 3px 1px rgba(0, 0, 0, 0.15);\n",
              "      filter: drop-shadow(0px 1px 2px rgba(0, 0, 0, 0.3));\n",
              "      fill: #FFFFFF;\n",
              "    }\n",
              "  </style>\n",
              "\n",
              "      <script>\n",
              "        const buttonEl =\n",
              "          document.querySelector('#df-426c63c3-6ef9-4b5f-81a6-6b05c12830e5 button.colab-df-convert');\n",
              "        buttonEl.style.display =\n",
              "          google.colab.kernel.accessAllowed ? 'block' : 'none';\n",
              "\n",
              "        async function convertToInteractive(key) {\n",
              "          const element = document.querySelector('#df-426c63c3-6ef9-4b5f-81a6-6b05c12830e5');\n",
              "          const dataTable =\n",
              "            await google.colab.kernel.invokeFunction('convertToInteractive',\n",
              "                                                     [key], {});\n",
              "          if (!dataTable) return;\n",
              "\n",
              "          const docLinkHtml = 'Like what you see? Visit the ' +\n",
              "            '<a target=\"_blank\" href=https://colab.research.google.com/notebooks/data_table.ipynb>data table notebook</a>'\n",
              "            + ' to learn more about interactive tables.';\n",
              "          element.innerHTML = '';\n",
              "          dataTable['output_type'] = 'display_data';\n",
              "          await google.colab.output.renderOutput(dataTable, element);\n",
              "          const docLink = document.createElement('div');\n",
              "          docLink.innerHTML = docLinkHtml;\n",
              "          element.appendChild(docLink);\n",
              "        }\n",
              "      </script>\n",
              "    </div>\n",
              "  </div>\n",
              "  "
            ]
          },
          "metadata": {},
          "execution_count": 15
        }
      ]
    },
    {
      "cell_type": "code",
      "source": [
        "data_tech_health.shape"
      ],
      "metadata": {
        "id": "wtiS6LnUWsoV",
        "colab": {
          "base_uri": "https://localhost:8080/"
        },
        "outputId": "5844cfe5-9ade-44b8-9224-73ad48b7cc1e"
      },
      "execution_count": 16,
      "outputs": [
        {
          "output_type": "execute_result",
          "data": {
            "text/plain": [
              "(126110, 11)"
            ]
          },
          "metadata": {},
          "execution_count": 16
        }
      ]
    },
    {
      "cell_type": "code",
      "source": [
        "data_tech_health.info()"
      ],
      "metadata": {
        "colab": {
          "base_uri": "https://localhost:8080/"
        },
        "id": "NNcVLQPRN5ha",
        "outputId": "9aac314b-59aa-4a37-b57b-6abb62e8f5c3"
      },
      "execution_count": 17,
      "outputs": [
        {
          "output_type": "stream",
          "name": "stdout",
          "text": [
            "<class 'pandas.core.frame.DataFrame'>\n",
            "RangeIndex: 126110 entries, 0 to 126109\n",
            "Data columns (total 11 columns):\n",
            " #   Column           Non-Null Count   Dtype  \n",
            "---  ------           --------------   -----  \n",
            " 0   date             126110 non-null  object \n",
            " 1   year             126110 non-null  int64  \n",
            " 2   month            126110 non-null  float64\n",
            " 3   day              126110 non-null  int64  \n",
            " 4   author           63297 non-null   object \n",
            " 5   title            126109 non-null  object \n",
            " 6   article          125948 non-null  object \n",
            " 7   url              126110 non-null  object \n",
            " 8   section          126110 non-null  object \n",
            " 9   publication      126110 non-null  object \n",
            " 10  tech_health_tag  126110 non-null  object \n",
            "dtypes: float64(1), int64(2), object(8)\n",
            "memory usage: 10.6+ MB\n"
          ]
        }
      ]
    },
    {
      "cell_type": "code",
      "source": [
        "data_tech_health.isnull().sum()"
      ],
      "metadata": {
        "id": "SQl9EV7GN_8A",
        "colab": {
          "base_uri": "https://localhost:8080/"
        },
        "outputId": "8e2ab984-140c-4023-c912-e467bbc14936"
      },
      "execution_count": 18,
      "outputs": [
        {
          "output_type": "execute_result",
          "data": {
            "text/plain": [
              "date                   0\n",
              "year                   0\n",
              "month                  0\n",
              "day                    0\n",
              "author             62813\n",
              "title                  1\n",
              "article              162\n",
              "url                    0\n",
              "section                0\n",
              "publication            0\n",
              "tech_health_tag        0\n",
              "dtype: int64"
            ]
          },
          "metadata": {},
          "execution_count": 18
        }
      ]
    },
    {
      "cell_type": "markdown",
      "source": [
        "**Observation the data focus on health and technology section**\n",
        "\n",
        "- The data has 10 columns and 126110 rows\n",
        "- 3 columns of the data have null values. The columns name are:\n",
        "        - author(it has 62813 null values)\n",
        "        - title(it has 1 null values)\n",
        "        - article(it has 162 null values)\n",
        "        \n",
        "- data type of the columns int(2), float(1), and object(7)\n",
        "- The 'date' column data type is Object. It should be converted into date data type\n",
        "- author, title, article, url, section, and publication columns have object data types. it should be converted into string\n"
      ],
      "metadata": {
        "id": "cdjbymGQqHUs"
      }
    },
    {
      "cell_type": "code",
      "source": [
        "data_tech_health['publication'].unique()"
      ],
      "metadata": {
        "colab": {
          "base_uri": "https://localhost:8080/"
        },
        "id": "B6n1RcZKs7c6",
        "outputId": "d79c18a2-205b-4f8d-ec3a-b140bd314233"
      },
      "execution_count": 19,
      "outputs": [
        {
          "output_type": "execute_result",
          "data": {
            "text/plain": [
              "array(['Vice', 'Reuters', 'The Verge', 'People', 'Economist', 'CNN',\n",
              "       'Gizmodo', 'CNBC', 'Fox News', 'The New York Times'], dtype=object)"
            ]
          },
          "metadata": {},
          "execution_count": 19
        }
      ]
    },
    {
      "cell_type": "code",
      "source": [
        "plt.figure(figsize=(10,5))\n",
        "publication_plot = sns.countplot(\n",
        "    data=data_tech_health,\n",
        "    x='publication',\n",
        "    palette='Set1',\n",
        "    order = data_tech_health['publication'].value_counts().index\n",
        ")\n",
        "\n",
        "plt.xticks(\n",
        "    rotation=45, \n",
        "    horizontalalignment='right',\n",
        "    fontweight='light',\n",
        "    fontsize='x-large'  \n",
        ")"
      ],
      "metadata": {
        "colab": {
          "base_uri": "https://localhost:8080/",
          "height": 471
        },
        "id": "NseIit5Cyiuz",
        "outputId": "8e880d1c-e965-4a75-fbaa-8d8cf05b98b4"
      },
      "execution_count": 20,
      "outputs": [
        {
          "output_type": "execute_result",
          "data": {
            "text/plain": [
              "<Figure size 720x360 with 0 Axes>"
            ]
          },
          "metadata": {},
          "execution_count": 20
        },
        {
          "output_type": "execute_result",
          "data": {
            "text/plain": [
              "(array([0, 1, 2, 3, 4, 5, 6, 7, 8, 9]),\n",
              " <a list of 10 Text major ticklabel objects>)"
            ]
          },
          "metadata": {},
          "execution_count": 20
        },
        {
          "output_type": "display_data",
          "data": {
            "text/plain": [
              "<Figure size 720x360 with 1 Axes>"
            ],
            "image/png": "[encoded data removed]"
          },
          "metadata": {
            "needs_background": "light"
          }
        }
      ]
    },
    {
      "cell_type": "markdown",
      "source": [
        "# observation \n",
        "- From the above chart, we can see that most of articles contain health and technology articles published by 10 publishers. Their name is as follows:\n",
        "   - Reuters\n",
        "   - Vice\n",
        "   - CNBC\n",
        "   - CNN\n",
        "   - The New York Times\n",
        "   - The Verg\n",
        "   - People\n",
        "   - Gizmodo\n",
        "   - Fox News\n",
        "   - Economist\n",
        "  \n",
        "- Reuter take the first position by far publishing Tech and Health articles\n",
        "\n",
        "- Economist take the last position publishing on this domain.\n",
        "\n"
      ],
      "metadata": {
        "id": "kGxYry7F1rtz"
      }
    },
    {
      "cell_type": "code",
      "source": [
        "data_tech_health['tech_health_tag'].value_counts()"
      ],
      "metadata": {
        "colab": {
          "base_uri": "https://localhost:8080/"
        },
        "id": "wpMwPpLLxfof",
        "outputId": "aaa19db8-ebb5-44bf-ba2d-e761792461b5"
      },
      "execution_count": 21,
      "outputs": [
        {
          "output_type": "execute_result",
          "data": {
            "text/plain": [
              "health        65261\n",
              "technology    60849\n",
              "Name: tech_health_tag, dtype: int64"
            ]
          },
          "metadata": {},
          "execution_count": 21
        }
      ]
    },
    {
      "cell_type": "code",
      "source": [
        "def plot_figure(column_name1,column_name2):\n",
        "\n",
        "  plt.figure(figsize=(12,8))\n",
        "  publication_plot = sns.countplot(\n",
        "      data=data_tech_health,\n",
        "      x=column_name1,\n",
        "      hue = column_name2,\n",
        "      palette='Set1',\n",
        "      order = data_tech_health[column_name1].value_counts().index\n",
        "  )\n",
        "\n",
        "  plt.xticks(\n",
        "      rotation=45, \n",
        "      horizontalalignment='right',\n",
        "      fontweight='light',\n",
        "      fontsize='x-large'  \n",
        "  )\n",
        "  plt.show()\n"
      ],
      "metadata": {
        "id": "ekb6pRbs4IBB"
      },
      "execution_count": 22,
      "outputs": []
    },
    {
      "cell_type": "code",
      "source": [
        "plot_figure('publication','tech_health_tag') "
      ],
      "metadata": {
        "colab": {
          "base_uri": "https://localhost:8080/",
          "height": 599
        },
        "id": "VRKHxRt8L1t9",
        "outputId": "76885f87-1ba0-4691-ab0e-2452604017fd"
      },
      "execution_count": 23,
      "outputs": [
        {
          "output_type": "display_data",
          "data": {
            "text/plain": [
              "<Figure size 864x576 with 1 Axes>"
            ],
            "image/png": "[encoded data removed]"
          },
          "metadata": {
            "needs_background": "light"
          }
        }
      ]
    },
    {
      "cell_type": "markdown",
      "source": [
        "# observation \n",
        "- From the above chart, we can see that most of articles talking about health news coming from Reuters. The other publisher contirbute much less when compare with reuters.\n",
        "\n",
        "- Regarding to Technology articles the 3 publishers. i.e Reuters, Vice and CNBC contirbute almost equally.\n",
        "\n",
        "- Economist,FoxNews and Gizzmodo contirbute much less when compare with others.\n",
        "\n"
      ],
      "metadata": {
        "id": "ilaEiJGGDgJK"
      }
    },
    {
      "cell_type": "code",
      "source": [
        "data_tech_health['year'].value_counts().sort_index()"
      ],
      "metadata": {
        "colab": {
          "base_uri": "https://localhost:8080/"
        },
        "id": "l2wE9-1Nsg8n",
        "outputId": "c62a4525-406c-4e1d-fa1a-393d5c63ff94"
      },
      "execution_count": 24,
      "outputs": [
        {
          "output_type": "execute_result",
          "data": {
            "text/plain": [
              "2016    24470\n",
              "2017    28697\n",
              "2018    24770\n",
              "2019    22961\n",
              "2020    25212\n",
              "Name: year, dtype: int64"
            ]
          },
          "metadata": {},
          "execution_count": 24
        }
      ]
    },
    {
      "cell_type": "code",
      "source": [
        "data_tech_health['month'].value_counts()"
      ],
      "metadata": {
        "colab": {
          "base_uri": "https://localhost:8080/"
        },
        "id": "2OWkD_q8tt8T",
        "outputId": "80c45c48-def2-40b5-b8af-29084404d176"
      },
      "execution_count": 25,
      "outputs": [
        {
          "output_type": "execute_result",
          "data": {
            "text/plain": [
              "3.0     24510\n",
              "2.0     15218\n",
              "1.0     10921\n",
              "10.0     9050\n",
              "4.0      8875\n",
              "5.0      8789\n",
              "11.0     8643\n",
              "6.0      8577\n",
              "7.0      8190\n",
              "8.0      8094\n",
              "9.0      8055\n",
              "12.0     7188\n",
              "Name: month, dtype: int64"
            ]
          },
          "metadata": {},
          "execution_count": 25
        }
      ]
    },
    {
      "cell_type": "code",
      "source": [
        "data_tech_health[data_tech_health['year']==2020]['month'].unique()\n"
      ],
      "metadata": {
        "colab": {
          "base_uri": "https://localhost:8080/"
        },
        "id": "b6b8D6ocfHqy",
        "outputId": "994f1a5a-2f13-4f8b-ff08-2d138de09200"
      },
      "execution_count": 26,
      "outputs": [
        {
          "output_type": "execute_result",
          "data": {
            "text/plain": [
              "array([1., 2., 3., 4.])"
            ]
          },
          "metadata": {},
          "execution_count": 26
        }
      ]
    },
    {
      "cell_type": "code",
      "source": [
        "plot_figure('year','tech_health_tag') "
      ],
      "metadata": {
        "colab": {
          "base_uri": "https://localhost:8080/",
          "height": 523
        },
        "id": "jVfz6YIP4HLH",
        "outputId": "4fc7fadf-4967-4b38-ac97-57b67138b7d3"
      },
      "execution_count": 27,
      "outputs": [
        {
          "output_type": "display_data",
          "data": {
            "text/plain": [
              "<Figure size 864x576 with 1 Axes>"
            ],
            "image/png": "[encoded data removed]"
          },
          "metadata": {
            "needs_background": "light"
          }
        }
      ]
    },
    {
      "cell_type": "code",
      "source": [
        "plot_figure('year','publication') \n"
      ],
      "metadata": {
        "colab": {
          "base_uri": "https://localhost:8080/",
          "height": 523
        },
        "id": "609Chb1HtW0V",
        "outputId": "0c5b5dff-5e15-495d-cd4b-cc5882fa8066"
      },
      "execution_count": 28,
      "outputs": [
        {
          "output_type": "display_data",
          "data": {
            "text/plain": [
              "<Figure size 864x576 with 1 Axes>"
            ],
            "image/png": "[encoded data removed]"
          },
          "metadata": {
            "needs_background": "light"
          }
        }
      ]
    },
    {
      "cell_type": "code",
      "source": [
        "plot_figure('month','tech_health_tag') \n"
      ],
      "metadata": {
        "colab": {
          "base_uri": "https://localhost:8080/",
          "height": 519
        },
        "id": "Hi1VzU_yVVzT",
        "outputId": "14acd710-0750-4170-943d-96f5efe0f42c"
      },
      "execution_count": 29,
      "outputs": [
        {
          "output_type": "display_data",
          "data": {
            "text/plain": [
              "<Figure size 864x576 with 1 Axes>"
            ],
            "image/png": "[encoded data removed]"
          },
          "metadata": {
            "needs_background": "light"
          }
        }
      ]
    },
    {
      "cell_type": "markdown",
      "source": [
        "## Observation\n",
        "- The highest number of articles published in 2017\n",
        "\n",
        "- The highest number of health article published in 2020. The reason for this might be related to beginning of Covid pandamic in 2020.\n",
        "\n",
        "- 2020 has only 4 covered months record.\n",
        "\n",
        "- The highest publication of articles both in health and technology occur in month of January, February and March.\n",
        "\n",
        "- The first time the number of health article greater than in technology article is in year of 2020.\n",
        "\n",
        "- Reuters is the leading article publisher in in technology and health articles.\n",
        "\n",
        "    \n"
      ],
      "metadata": {
        "id": "mV8UL9XPmexA"
      }
    },
    {
      "cell_type": "markdown",
      "source": [
        "## Data Cleaning"
      ],
      "metadata": {
        "id": "11pAAgaBDtfe"
      }
    },
    {
      "cell_type": "code",
      "source": [
        "def processed_text_article(df):\n",
        "    special_char = list(punctuation)\n",
        "    for e in ['.','?']:\n",
        "        special_char.remove(e)\n",
        "    special_char.append(\"\\n+\")\n",
        "    special_char.append(\"\\s+\")\n",
        "\n",
        "    def deep_clean(text_str):\n",
        "      text_str = str(text_str)\n",
        "      text_str =text_str.strip()\n",
        "      text_str = re.sub('<[^>]*>', '', text_str)\n",
        "      for char in special_char:\n",
        "          text_str = text_str.replace(char, '')\n",
        "      return text_str\n",
        "\n",
        "    df['article'] = df['article'].apply(deep_clean)\n",
        "    df['title'] = df['title'].apply(deep_clean)\n",
        "    return df\n",
        "\n",
        "def clean_dataFrame(df):\n",
        "  missing_cols = df.isnull().sum()\n",
        "  drop_missing_cols = missing_cols[(missing_cols > len(df)/20)].sort_values()\n",
        "  df = df.drop(drop_missing_cols.index, axis=1)\n",
        "  df['date'] = pd.to_datetime(df['date'])\n",
        "  df = df.dropna()\n",
        "  #reset index\n",
        "  df = df.reset_index(drop=True)\n",
        "  # make all columns lower_case \n",
        "  df.columns = df.columns.str.lower()\n",
        "  df = processed_text_article(df)\n",
        "  return df"
      ],
      "metadata": {
        "id": "MeGBdMriVbb2"
      },
      "execution_count": 30,
      "outputs": []
    },
    {
      "cell_type": "code",
      "source": [
        "data_tech_health = clean_dataFrame(data_tech_health)"
      ],
      "metadata": {
        "id": "ndoFFfu5tkq8"
      },
      "execution_count": 31,
      "outputs": []
    },
    {
      "cell_type": "code",
      "source": [
        "data_tech_health.info()"
      ],
      "metadata": {
        "id": "4Mx1D_Ouu4Au",
        "colab": {
          "base_uri": "https://localhost:8080/"
        },
        "outputId": "2ac1ecd3-e9cf-4200-e574-4915647ff91b"
      },
      "execution_count": 32,
      "outputs": [
        {
          "output_type": "stream",
          "name": "stdout",
          "text": [
            "<class 'pandas.core.frame.DataFrame'>\n",
            "RangeIndex: 125948 entries, 0 to 125947\n",
            "Data columns (total 10 columns):\n",
            " #   Column           Non-Null Count   Dtype         \n",
            "---  ------           --------------   -----         \n",
            " 0   date             125948 non-null  datetime64[ns]\n",
            " 1   year             125948 non-null  int64         \n",
            " 2   month            125948 non-null  float64       \n",
            " 3   day              125948 non-null  int64         \n",
            " 4   title            125948 non-null  object        \n",
            " 5   article          125948 non-null  object        \n",
            " 6   url              125948 non-null  object        \n",
            " 7   section          125948 non-null  object        \n",
            " 8   publication      125948 non-null  object        \n",
            " 9   tech_health_tag  125948 non-null  object        \n",
            "dtypes: datetime64[ns](1), float64(1), int64(2), object(6)\n",
            "memory usage: 9.6+ MB\n"
          ]
        }
      ]
    },
    {
      "cell_type": "code",
      "source": [
        "data_tech_health.isnull().sum()"
      ],
      "metadata": {
        "colab": {
          "base_uri": "https://localhost:8080/"
        },
        "id": "Sm1ZfMwHPA2r",
        "outputId": "f42091a3-92b7-4b40-a00c-16a238230507"
      },
      "execution_count": 33,
      "outputs": [
        {
          "output_type": "execute_result",
          "data": {
            "text/plain": [
              "date               0\n",
              "year               0\n",
              "month              0\n",
              "day                0\n",
              "title              0\n",
              "article            0\n",
              "url                0\n",
              "section            0\n",
              "publication        0\n",
              "tech_health_tag    0\n",
              "dtype: int64"
            ]
          },
          "metadata": {},
          "execution_count": 33
        }
      ]
    },
    {
      "cell_type": "code",
      "source": [
        "data_tech_health['date'].describe()"
      ],
      "metadata": {
        "colab": {
          "base_uri": "https://localhost:8080/"
        },
        "id": "_AQ7hTDkKpa2",
        "outputId": "5bae3a13-cc7e-4042-e952-cdafdfe338e1"
      },
      "execution_count": 34,
      "outputs": [
        {
          "output_type": "stream",
          "name": "stderr",
          "text": [
            "/usr/local/lib/python3.7/dist-packages/ipykernel_launcher.py:1: FutureWarning: Treating datetime data as categorical rather than numeric in `.describe` is deprecated and will be removed in a future version of pandas. Specify `datetime_is_numeric=True` to silence this warning and adopt the future behavior now.\n",
            "  \"\"\"Entry point for launching an IPython kernel.\n"
          ]
        },
        {
          "output_type": "execute_result",
          "data": {
            "text/plain": [
              "count                  125948\n",
              "unique                  29195\n",
              "top       2020-03-16 00:00:00\n",
              "freq                     1021\n",
              "first     2016-01-01 00:00:00\n",
              "last      2020-04-01 05:00:32\n",
              "Name: date, dtype: object"
            ]
          },
          "metadata": {},
          "execution_count": 34
        }
      ]
    },
    {
      "cell_type": "markdown",
      "source": [
        "- The statistical summery of date tells us the year 2020 only includes 4 month record."
      ],
      "metadata": {
        "id": "FqgBc6kHLEt7"
      }
    },
    {
      "cell_type": "markdown",
      "source": [
        "## The distribution of word count of article text"
      ],
      "metadata": {
        "id": "kC6tPSqyMxY9"
      }
    },
    {
      "cell_type": "code",
      "source": [
        "data_tech_health['word_count'] = data_tech_health['article'].apply(lambda x: len(x.split()))"
      ],
      "metadata": {
        "id": "Ncq5ZSsYM5Wo"
      },
      "execution_count": 35,
      "outputs": []
    },
    {
      "cell_type": "code",
      "source": [
        "data_tech_health['word_count'].describe([0.1,0.25,0.5,0.75,0.95])"
      ],
      "metadata": {
        "colab": {
          "base_uri": "https://localhost:8080/"
        },
        "id": "eABFHtEiNiU1",
        "outputId": "7bb4f6b0-3a5e-4303-c604-87b818f31dca"
      },
      "execution_count": 36,
      "outputs": [
        {
          "output_type": "execute_result",
          "data": {
            "text/plain": [
              "count    125948.000000\n",
              "mean        467.384428\n",
              "std         502.197501\n",
              "min           1.000000\n",
              "10%          42.000000\n",
              "25%         113.000000\n",
              "50%         351.000000\n",
              "75%         629.000000\n",
              "95%        1340.000000\n",
              "max       13510.000000\n",
              "Name: word_count, dtype: float64"
            ]
          },
          "metadata": {},
          "execution_count": 36
        }
      ]
    },
    {
      "cell_type": "code",
      "source": [
        "data_tech_health[data_tech_health['word_count']<10]['article'].count()"
      ],
      "metadata": {
        "colab": {
          "base_uri": "https://localhost:8080/"
        },
        "id": "74Wk77BON7gA",
        "outputId": "22a3da2f-861d-463a-ba58-5341d6853bd5"
      },
      "execution_count": 37,
      "outputs": [
        {
          "output_type": "execute_result",
          "data": {
            "text/plain": [
              "13"
            ]
          },
          "metadata": {},
          "execution_count": 37
        }
      ]
    },
    {
      "cell_type": "code",
      "source": [
        "data_tech_health[data_tech_health['word_count']>1000]['article'].count()"
      ],
      "metadata": {
        "colab": {
          "base_uri": "https://localhost:8080/"
        },
        "id": "S09nSgudRbLX",
        "outputId": "07021b94-8ee5-47c8-e6d7-b9f8f1d9c80e"
      },
      "execution_count": 38,
      "outputs": [
        {
          "output_type": "execute_result",
          "data": {
            "text/plain": [
              "13944"
            ]
          },
          "metadata": {},
          "execution_count": 38
        }
      ]
    },
    {
      "cell_type": "code",
      "source": [
        "sns.histplot(data_tech_health['word_count'],\n",
        "                 bins=100)\n",
        "\n",
        "\n"
      ],
      "metadata": {
        "colab": {
          "base_uri": "https://localhost:8080/",
          "height": 297
        },
        "id": "9F2gx419NGqZ",
        "outputId": "0c6b3176-b75f-4c77-879a-fed84267658a"
      },
      "execution_count": 39,
      "outputs": [
        {
          "output_type": "execute_result",
          "data": {
            "text/plain": [
              "<matplotlib.axes._subplots.AxesSubplot at 0x7fcf57fd7850>"
            ]
          },
          "metadata": {},
          "execution_count": 39
        },
        {
          "output_type": "display_data",
          "data": {
            "text/plain": [
              "<Figure size 432x288 with 1 Axes>"
            ],
            "image/png": "[encoded data removed]"
          },
          "metadata": {
            "needs_background": "light"
          }
        }
      ]
    },
    {
      "cell_type": "markdown",
      "source": [
        "- The word count of an article text is between 1 and 13510. \n",
        "- 75% of the data word count is 629. \n",
        "- There are 13 articles their word count is less than 10 and 13944 article\n",
        "their word count is above 1000."
      ],
      "metadata": {
        "id": "xR6u2QloSQ8O"
      }
    },
    {
      "cell_type": "markdown",
      "source": [
        "## The distribution of top unigrams before removing stop words\n",
        "\n"
      ],
      "metadata": {
        "id": "D8Q8WBy1TYpb"
      }
    },
    {
      "cell_type": "code",
      "source": [
        "def get_top_n_words(corpus, n=None, language=None):\n",
        "  if language=='english':\n",
        "    vec = CountVectorizer(stop_words = 'english').fit(corpus)\n",
        "  else:\n",
        "    vec = CountVectorizer().fit(corpus)\n",
        "\n",
        "  bag_of_words = vec.transform(corpus)\n",
        "  sum_words = bag_of_words.sum(axis=0) \n",
        "  words_freq = [(word, sum_words[0, idx]) for word, idx in vec.vocabulary_.items()]\n",
        "  words_freq =sorted(words_freq, key = lambda x: x[1], reverse=True)\n",
        "  return words_freq[:n]\n"
      ],
      "metadata": {
        "id": "AyF-kwr-TXyM"
      },
      "execution_count": 40,
      "outputs": []
    },
    {
      "cell_type": "code",
      "source": [
        "common_words = get_top_n_words(data_tech_health['article'], 20)\n",
        "for word, freq in common_words:\n",
        "    print(word, freq)\n",
        "df1 = pd.DataFrame(common_words, columns = ['ArticleWord' , 'count'])\n",
        "df1.groupby('ArticleWord').sum()['count'].sort_values(ascending=False).plot.bar()"
      ],
      "metadata": {
        "colab": {
          "base_uri": "https://localhost:8080/",
          "height": 670
        },
        "id": "DGR3SeHub3Jm",
        "outputId": "23370812-fac9-44a1-e414-734e2cde22c7"
      },
      "execution_count": 41,
      "outputs": [
        {
          "output_type": "stream",
          "name": "stdout",
          "text": [
            "the 3020552\n",
            "to 1750126\n",
            "of 1482657\n",
            "and 1435060\n",
            "in 1171664\n",
            "that 769151\n",
            "for 621677\n",
            "is 549682\n",
            "it 503883\n",
            "on 496834\n",
            "with 415156\n",
            "said 399219\n",
            "as 350386\n",
            "by 309276\n",
            "are 300474\n",
            "be 288955\n",
            "at 283582\n",
            "was 281389\n",
            "have 280537\n",
            "from 274870\n"
          ]
        },
        {
          "output_type": "execute_result",
          "data": {
            "text/plain": [
              "<matplotlib.axes._subplots.AxesSubplot at 0x7fcf57f8cd90>"
            ]
          },
          "metadata": {},
          "execution_count": 41
        },
        {
          "output_type": "display_data",
          "data": {
            "text/plain": [
              "<Figure size 432x288 with 1 Axes>"
            ],
            "image/png": "[encoded data removed]"
          },
          "metadata": {
            "needs_background": "light"
          }
        }
      ]
    },
    {
      "cell_type": "markdown",
      "source": [
        "## The distribution of top unigrams for article after removing stop words\n"
      ],
      "metadata": {
        "id": "pV2AVfGTc7dy"
      }
    },
    {
      "cell_type": "code",
      "source": [
        "common_words = get_top_n_words(data_tech_health['article'], 20, 'english')\n",
        "for word, freq in common_words:\n",
        "    print(word, freq)\n",
        "df1 = pd.DataFrame(common_words, columns = ['ArticleWord' , 'count'])\n",
        "df1.groupby('ArticleWord').sum()['count'].sort_values(ascending=False).plot.bar()"
      ],
      "metadata": {
        "colab": {
          "base_uri": "https://localhost:8080/",
          "height": 688
        },
        "id": "MYRCv0MiXKEC",
        "outputId": "49fce776-9651-42d2-e1cd-2da29f13c336"
      },
      "execution_count": 42,
      "outputs": [
        {
          "output_type": "stream",
          "name": "stdout",
          "text": [
            "said 399219\n",
            "people 160781\n",
            "company 149141\n",
            "new 147966\n",
            "like 123928\n",
            "health 103557\n",
            "year 94077\n",
            "million 83302\n",
            "time 81934\n",
            "just 80520\n",
            "reuters 71136\n",
            "percent 68678\n",
            "says 68267\n",
            "years 68061\n",
            "according 65309\n",
            "data 64223\n",
            "use 61889\n",
            "companies 61447\n",
            "study 58246\n",
            "told 57231\n"
          ]
        },
        {
          "output_type": "execute_result",
          "data": {
            "text/plain": [
              "<matplotlib.axes._subplots.AxesSubplot at 0x7fcf57f22ad0>"
            ]
          },
          "metadata": {},
          "execution_count": 42
        },
        {
          "output_type": "display_data",
          "data": {
            "text/plain": [
              "<Figure size 432x288 with 1 Axes>"
            ],
            "image/png": "[encoded data removed]"
          },
          "metadata": {
            "needs_background": "light"
          }
        }
      ]
    },
    {
      "cell_type": "markdown",
      "source": [
        "## The distribution of top unigrams for technology article after removing stop words\n"
      ],
      "metadata": {
        "id": "EUj94qt7fwQ8"
      }
    },
    {
      "cell_type": "code",
      "source": [
        "data_tech = data_tech_health[data_tech_health['tech_health_tag']=='technology']\n",
        "common_words = get_top_n_words(data_tech['article'], 25, 'english')\n",
        "for word, freq in common_words:\n",
        "    print(word, freq)\n",
        "df1 = pd.DataFrame(common_words, columns = ['ArticleWord' , 'count'])\n",
        "df1.groupby('ArticleWord').sum()['count'].sort_values(ascending=False).plot.bar()"
      ],
      "metadata": {
        "colab": {
          "base_uri": "https://localhost:8080/",
          "height": 777
        },
        "id": "DhEHXucvXaf7",
        "outputId": "5e3a397d-0721-41e5-fa10-cadb8bd42be8"
      },
      "execution_count": 43,
      "outputs": [
        {
          "output_type": "stream",
          "name": "stdout",
          "text": [
            "said 196930\n",
            "company 103870\n",
            "new 88415\n",
            "like 75975\n",
            "people 67400\n",
            "year 54580\n",
            "facebook 52901\n",
            "companies 50118\n",
            "data 46365\n",
            "time 44805\n",
            "just 44216\n",
            "apple 43290\n",
            "million 42103\n",
            "google 39642\n",
            "technology 39362\n",
            "years 36886\n",
            "billion 36323\n",
            "use 34937\n",
            "amazon 34818\n",
            "according 34442\n",
            "make 34291\n",
            "percent 34253\n",
            "told 33992\n",
            "users 33558\n",
            "business 29491\n"
          ]
        },
        {
          "output_type": "execute_result",
          "data": {
            "text/plain": [
              "<matplotlib.axes._subplots.AxesSubplot at 0x7fcf57d4c250>"
            ]
          },
          "metadata": {},
          "execution_count": 43
        },
        {
          "output_type": "display_data",
          "data": {
            "text/plain": [
              "<Figure size 432x288 with 1 Axes>"
            ],
            "image/png": "[encoded data removed]"
          },
          "metadata": {
            "needs_background": "light"
          }
        }
      ]
    },
    {
      "cell_type": "markdown",
      "source": [
        "## The distribution of top unigrams for health article after removing stop words"
      ],
      "metadata": {
        "id": "-8fg2LC5gh87"
      }
    },
    {
      "cell_type": "code",
      "source": [
        "data_health = data_tech_health[data_tech_health['tech_health_tag']=='health']\n",
        "common_words = get_top_n_words(data_health['article'], 25, 'english')\n",
        "for word, freq in common_words:\n",
        "    print(word, freq)\n",
        "df1 = pd.DataFrame(common_words, columns = ['ArticleWord' , 'count'])\n",
        "df1.groupby('ArticleWord').sum()['count'].sort_values(ascending=False).plot.bar()"
      ],
      "metadata": {
        "colab": {
          "base_uri": "https://localhost:8080/",
          "height": 770
        },
        "id": "9R9SORKxgA5r",
        "outputId": "befe9462-c0a7-4b2f-a84e-addea4a57d2a"
      },
      "execution_count": 44,
      "outputs": [
        {
          "output_type": "stream",
          "name": "stdout",
          "text": [
            "said 202289\n",
            "people 93381\n",
            "health 92199\n",
            "new 59551\n",
            "study 49691\n",
            "like 47953\n",
            "reuters 47870\n",
            "says 46654\n",
            "company 45271\n",
            "patients 43098\n",
            "million 41199\n",
            "year 39497\n",
            "time 37129\n",
            "just 36304\n",
            "percent 34425\n",
            "drug 32606\n",
            "disease 32016\n",
            "years 31175\n",
            "according 30867\n",
            "women 30163\n",
            "medical 29956\n",
            "coverage 29808\n",
            "source 28869\n",
            "cases 28597\n",
            "care 28080\n"
          ]
        },
        {
          "output_type": "execute_result",
          "data": {
            "text/plain": [
              "<matplotlib.axes._subplots.AxesSubplot at 0x7fcf57d2c3d0>"
            ]
          },
          "metadata": {},
          "execution_count": 44
        },
        {
          "output_type": "display_data",
          "data": {
            "text/plain": [
              "<Figure size 432x288 with 1 Axes>"
            ],
            "image/png": "[encoded data removed]"
          },
          "metadata": {
            "needs_background": "light"
          }
        }
      ]
    },
    {
      "cell_type": "markdown",
      "source": [
        "## The distribution of top bigrams for technology articles after removing stop words\n",
        "\n",
        "\n"
      ],
      "metadata": {
        "id": "FCniAY7Qhp3O"
      }
    },
    {
      "cell_type": "code",
      "source": [
        "def get_top_n_bigram(corpus, n=None):\n",
        "    vec = CountVectorizer(ngram_range=(2, 2), stop_words='english').fit(corpus)\n",
        "    bag_of_words = vec.transform(corpus)\n",
        "    sum_words = bag_of_words.sum(axis=0) \n",
        "    words_freq = [(word, sum_words[0, idx]) for word, idx in vec.vocabulary_.items()]\n",
        "    words_freq =sorted(words_freq, key = lambda x: x[1], reverse=True)\n",
        "    return words_freq[:n]\n"
      ],
      "metadata": {
        "id": "QFwx-V00gzfh"
      },
      "execution_count": 45,
      "outputs": []
    },
    {
      "cell_type": "code",
      "source": [
        "common_words = get_top_n_bigram(data_tech['article'], 25)\n",
        "for word, freq in common_words:\n",
        "    print(word, freq)\n",
        "df1 = pd.DataFrame(common_words, columns = ['ArticleWord' , 'count'])\n",
        "df1.groupby('ArticleWord').sum()['count'].sort_values(ascending=False).plot.bar()"
      ],
      "metadata": {
        "colab": {
          "base_uri": "https://localhost:8080/",
          "height": 824
        },
        "id": "oMMy6ktQiUSO",
        "outputId": "0ced6c8b-8c09-4507-86be-ee077cb0c92d"
      },
      "execution_count": 46,
      "outputs": [
        {
          "output_type": "stream",
          "name": "stdout",
          "text": [
            "new york 13277\n",
            "united states 12400\n",
            "social media 9574\n",
            "chief executive 7421\n",
            "company said 7087\n",
            "said statement 7086\n",
            "san francisco 6745\n",
            "silicon valley 6236\n",
            "tech companies 5544\n",
            "artificial intelligence 4896\n",
            "years ago 4655\n",
            "told motherboard 4561\n",
            "told cnbc 4364\n",
            "declined comment 4233\n",
            "law enforcement 3988\n",
            "climate change 3842\n",
            "wall street 3691\n",
            "vice president 3613\n",
            "said company 3549\n",
            "earlier year 3447\n",
            "york times 3374\n",
            "told reuters 3276\n",
            "companies like 3206\n",
            "blog post 3043\n",
            "stories day 3024\n"
          ]
        },
        {
          "output_type": "execute_result",
          "data": {
            "text/plain": [
              "<matplotlib.axes._subplots.AxesSubplot at 0x7fcf5530d410>"
            ]
          },
          "metadata": {},
          "execution_count": 46
        },
        {
          "output_type": "display_data",
          "data": {
            "text/plain": [
              "<Figure size 432x288 with 1 Axes>"
            ],
            "image/png": "[encoded data removed]"
          },
          "metadata": {
            "needs_background": "light"
          }
        }
      ]
    },
    {
      "cell_type": "markdown",
      "source": [
        "## The distribution of top bigrams for health articles after removing stop words"
      ],
      "metadata": {
        "id": "EdeAdgQtkWmB"
      }
    },
    {
      "cell_type": "code",
      "source": [
        "common_words = get_top_n_bigram(data_health['article'], 25)\n",
        "for word, freq in common_words:\n",
        "    print(word, freq)\n",
        "df1 = pd.DataFrame(common_words, columns = ['ArticleWord' , 'count'])\n",
        "df1.groupby('ArticleWord').sum()['count'].sort_values(ascending=False).plot.bar()"
      ],
      "metadata": {
        "colab": {
          "base_uri": "https://localhost:8080/",
          "height": 820
        },
        "id": "cYMgCa3Bit7I",
        "outputId": "be153801-9355-4b19-9cb9-0311a10d5cdd"
      },
      "execution_count": 47,
      "outputs": [
        {
          "output_type": "stream",
          "name": "stdout",
          "text": [
            "company coverage 23200\n",
            "source text 22588\n",
            "text eikon 15082\n",
            "eikon company 14450\n",
            "united states 13418\n",
            "new york 10856\n",
            "public health 9662\n",
            "health care 7765\n",
            "said dr 7505\n",
            "said statement 6354\n",
            "mental health 6159\n",
            "disease control 5751\n",
            "centers disease 5444\n",
            "control prevention 5030\n",
            "food drug 4841\n",
            "new study 4757\n",
            "reuters health 4676\n",
            "drug administration 4648\n",
            "year ago 4597\n",
            "gdynia newsroom 4488\n",
            "health officials 4377\n",
            "world health 4028\n",
            "health organization 3744\n",
            "said email 3612\n",
            "health insurance 3487\n"
          ]
        },
        {
          "output_type": "execute_result",
          "data": {
            "text/plain": [
              "<matplotlib.axes._subplots.AxesSubplot at 0x7fcf5801d050>"
            ]
          },
          "metadata": {},
          "execution_count": 47
        },
        {
          "output_type": "display_data",
          "data": {
            "text/plain": [
              "<Figure size 432x288 with 1 Axes>"
            ],
            "image/png": "[encoded data removed]"
          },
          "metadata": {
            "needs_background": "light"
          }
        }
      ]
    },
    {
      "cell_type": "markdown",
      "source": [
        "## Conclusions:\n",
        "\n",
        "- The above explanatory data analysis proof that we have enough data for both technology and health articles to implement topic modeling algorithm.\n",
        "\n",
        "- Even though 2020 has only covered 4 months data, it has the highest number of articles published related to health. The reason being COVID-19 pandamic.\n",
        "\n",
        "- The EDA shows that there are articles with few numbers of word counts, these needs to be cleaned as these articles might not have a complete sentence.\n",
        "\n",
        "- Reuters is the leading publisher when it come into health and technology articles"
      ],
      "metadata": {
        "id": "y3rvWHwgujZj"
      }
    },
    {
      "cell_type": "markdown",
      "source": [
        "# Data Lineage\n",
        "\n",
        "Our data was obtained from the two data sets on Kaggle.\n",
        "\n",
        "The first data set contains more than 2.5 million news articles and essays from 27 publications. The articles are from January 2016 to April 2020. This data set is located here:[ news articles data.](https://components.one/datasets/all-the-news-2-news-articles-dataset/\n",
        ")\n",
        "\n",
        "The second data set is a corpus for named entity recognition, also obtained from Kaggle. The data is located here :[NER corpus](https://www.kaggle.com/datasets/abhinavwalia95/entity-annotated-corpus)\n"
      ],
      "metadata": {
        "id": "N0ZYCjPHpjt_"
      }
    },
    {
      "cell_type": "markdown",
      "source": [
        "## Questions\n",
        "\n",
        "- We need some kind of guidance about to make a connection between NER application and Topic Modeling application. because the data given us is completely different.\n",
        "\n"
      ],
      "metadata": {
        "id": "Jg_kt-TOqZTO"
      }
    },
    {
      "cell_type": "markdown",
      "source": [
        "## Acknowledgements\n",
        "\n",
        "- The code get_top_n_bigram is adapted from [towardsdatascience](https://towardsdatascience.com/a-complete-exploratory-data-analysis-and-visualization-for-text-data-29fb1b96fb6a)"
      ],
      "metadata": {
        "id": "lw1wqV8C95xi"
      }
    }
  ]
}